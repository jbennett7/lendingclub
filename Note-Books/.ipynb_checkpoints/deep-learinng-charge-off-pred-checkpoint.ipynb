{
 "cells": [
  {
   "cell_type": "code",
   "execution_count": null,
   "metadata": {
    "_cell_guid": "abc84609-3d6d-4b69-ba36-d1b83ef55cda",
    "_uuid": "4d04f9cd486e0c7e16f65c966ab14e8f095a1a3e"
   },
   "outputs": [],
   "source": [
    "import pandas as pd\n",
    "import numpy as np\n",
    "\n",
    "pd.set_option('display.max_rows', None)\n",
    "pd.set_option('display.max_columns', None)\n",
    "\n",
    "df = pd.read_csv('../input/accepted_2007_to_2018Q2.csv.gz', compression='gzip', low_memory=True)\n"
   ]
  },
  {
   "cell_type": "code",
   "execution_count": 2,
   "metadata": {
    "_cell_guid": "4d69f233-b4ca-4662-9cc6-bf41eb8d4ffa",
    "_uuid": "7021cc5e22f3a32be7b9a2241df0d6b03df8eea7"
   },
   "outputs": [],
   "source": [
    "# remove columns that have only one distinct value\n",
    "drop_list = []\n",
    "for col in df.columns:\n",
    "    if df[col].nunique() == 1:\n",
    "        drop_list.append(col)\n",
    "\n",
    "drop_list"
   ]
  },
  {
   "cell_type": "code",
   "execution_count": 3,
   "metadata": {
    "_cell_guid": "52901d42-49df-40e9-9f39-d4d7712a1441",
    "_uuid": "4f5fd6c9b1cb93503054869122b7e8b4f067bafd",
    "collapsed": true
   },
   "outputs": [],
   "source": [
    "#drop columns\n",
    "df.drop(labels=drop_list, axis=1, inplace=True)"
   ]
  },
  {
   "cell_type": "code",
   "execution_count": 4,
   "metadata": {
    "_cell_guid": "74b80d91-4d40-44aa-8ef4-f94ead5e108c",
    "_uuid": "d4ed31bc0e80b8fb0d27a87e25a6b6296e3b7f7a"
   },
   "outputs": [],
   "source": [
    "# remove columns that have values for less than 10% rows\n",
    "drop_list = []\n",
    "for col in df.columns:\n",
    "    if df[col].notnull().sum() / df.shape[0] < 0.1:\n",
    "        drop_list.append(col)\n",
    "\n",
    "drop_list"
   ]
  },
  {
   "cell_type": "code",
   "execution_count": 5,
   "metadata": {
    "_cell_guid": "10ea8ec8-2fbb-4dc9-8b06-da540ff727e6",
    "_uuid": "8bad3cab9c23ce02724810db812529661c5a3610",
    "collapsed": true
   },
   "outputs": [],
   "source": [
    "df.drop(labels=drop_list, axis=1, inplace=True)"
   ]
  },
  {
   "cell_type": "code",
   "execution_count": 7,
   "metadata": {
    "_cell_guid": "52f2989e-14ea-408e-8c24-ff2e3bfd3b01",
    "_uuid": "612fbd4e664feb7e5acf16bf79572e6e5fb990d8"
   },
   "outputs": [],
   "source": [
    "# remove irrelevant features\n",
    "df.drop(labels=['dti', 'id', 'emp_title', 'title', 'issue_d', 'funded_amnt_inv','out_prncp_inv', 'last_credit_pull_d', 'earliest_cr_line','fico_range_low','last_fico_range_low','next_pymnt_d','disbursement_method'], axis=1, inplace=True)\n"
   ]
  },
  {
   "cell_type": "code",
   "execution_count": 8,
   "metadata": {
    "_cell_guid": "ee8af6c6-6e92-4f0d-aead-affaf9faf57d",
    "_uuid": "50b09a9a5659a798277515af159c68e47ac85b6c",
    "collapsed": true
   },
   "outputs": [],
   "source": [
    "###Some features give away the loan status. Remove these columns\n",
    "df.drop(labels=['collection_recovery_fee', 'debt_settlement_flag', 'last_pymnt_amnt', 'last_pymnt_d', 'recoveries', \n",
    "                 'total_pymnt', 'total_pymnt_inv', 'total_rec_int', 'total_rec_late_fee', 'total_rec_prncp'], axis=1, inplace=True)\n"
   ]
  },
  {
   "cell_type": "code",
   "execution_count": 9,
   "metadata": {
    "_cell_guid": "baa3536a-1bd5-471d-924f-7c4a1b5b0ce7",
    "_uuid": "949eae359d90ebcc575b54f43a5e6e1ff8f25276"
   },
   "outputs": [],
   "source": [
    "#columns with text data\n",
    "text_cols = []\n",
    "for col in df.columns:\n",
    "    if df[col].dtype == np.object:\n",
    "        text_cols.append(col)\n",
    "\n",
    "text_cols"
   ]
  },
  {
   "cell_type": "code",
   "execution_count": 10,
   "metadata": {
    "_cell_guid": "606c5627-225d-4b90-b1b5-6c1361993144",
    "_uuid": "d567a54ebbefa279d44040952ac50cb2e6ef1c2e",
    "collapsed": true
   },
   "outputs": [],
   "source": [
    "#Remove rows without term\n",
    "df.dropna(subset=[\"term\"], how='all', inplace=True)\n",
    "\n",
    "#Remove rows with bLANK Ssub grade\n",
    "df.dropna(subset=[\"sub_grade\"], how='all', inplace=True)"
   ]
  },
  {
   "cell_type": "code",
   "execution_count": 11,
   "metadata": {
    "_cell_guid": "ad32a298-40d0-4755-a55d-08e53f24a7c7",
    "_uuid": "e8100192b5ca69fc3d8273f7403f5734fea530c0",
    "collapsed": true
   },
   "outputs": [],
   "source": [
    "#Convert term into integer\n",
    "floatval = lambda s: np.float(s[1:3])\n",
    "df['term'] = df['term'].apply(floatval) \n"
   ]
  },
  {
   "cell_type": "code",
   "execution_count": 12,
   "metadata": {
    "_uuid": "2968903f2c8f651d43d3073d74cd318c165d8b87",
    "collapsed": true
   },
   "outputs": [],
   "source": [
    "#populate -1 for mths_since_last_delinq and mths_since_last_record, mths_since_last_major_derog if value is null\n",
    "\n",
    "df['mths_since_last_delinq'] = df['mths_since_last_delinq'].fillna(-1)\n",
    "df['mths_since_last_record'] = df['mths_since_last_record'].fillna(-1)\n",
    "df['mths_since_last_major_derog'] = df['mths_since_last_major_derog'].fillna(-1)"
   ]
  },
  {
   "cell_type": "code",
   "execution_count": 13,
   "metadata": {
    "_cell_guid": "31d2e752-2019-4d3b-8cdd-c4ef8b23bc64",
    "_uuid": "f062d0ad7424f6477ddce7d11f5dcabc26d11dae",
    "collapsed": true
   },
   "outputs": [],
   "source": [
    "## convert subgrade\n",
    "grade_dict = {'A':0.0, 'B':1.0, 'C':2.0, 'D':3.0, 'E':4.0, 'F':5.0, 'G':6.0}\n",
    "def grade_to_float(s):\n",
    "    return 5 * grade_dict[s[0]]  + np.float(s[1]) - 1"
   ]
  },
  {
   "cell_type": "code",
   "execution_count": 14,
   "metadata": {
    "_cell_guid": "216b546b-9f73-4820-8b2a-7888f6ef3733",
    "_uuid": "183819331236557c4aecd550d031ff89160cf576",
    "collapsed": true
   },
   "outputs": [],
   "source": [
    "df['sub_grade'] = df['sub_grade'].apply(lambda s: grade_to_float(s))\n"
   ]
  },
  {
   "cell_type": "code",
   "execution_count": 15,
   "metadata": {
    "_cell_guid": "b64ce280-c441-4ca8-b301-55550c0b8e8c",
    "_uuid": "0c276b9fdf973e9d0695e227ce91fbe81883bb19",
    "collapsed": true
   },
   "outputs": [],
   "source": [
    "#grade is implied by sub grade\n",
    "df.drop(labels=['grade'], axis=1, inplace=True)"
   ]
  },
  {
   "cell_type": "code",
   "execution_count": 16,
   "metadata": {
    "_cell_guid": "3f1895fd-3574-453d-96f7-7de743666d22",
    "_uuid": "46c01c9f1573c408b3601a01ab865127b1b217c2"
   },
   "outputs": [],
   "source": [
    "#convert employment length to float\n",
    "def emp_conv(s):\n",
    "    try:\n",
    "        if pd.isnull(s):\n",
    "            return s\n",
    "        elif s[0] == '<':\n",
    "            return 0.0\n",
    "        elif s[:2] == '10':\n",
    "            return 10.0\n",
    "        else:\n",
    "            return np.float(s[0])\n",
    "    except TypeError:\n",
    "        return np.float64(s)\n",
    "\n",
    "df['emp_length'] = df['emp_length'].apply(lambda s: emp_conv(s))\n",
    "df['emp_length'].value_counts()"
   ]
  },
  {
   "cell_type": "code",
   "execution_count": 17,
   "metadata": {
    "_cell_guid": "92f530c3-3cee-4bd1-b3fb-fa3ec46fdd8b",
    "_uuid": "a2ab72bd53e84a6a1c7a92aa57766abc143bc03a",
    "collapsed": true
   },
   "outputs": [],
   "source": [
    "#Convert zip code to float and drop state \n",
    "df.dropna(subset=[\"zip_code\"], how='all', inplace=True)\n",
    "df['zip_code'] = df['zip_code'].apply(lambda s:np.float(s[:3]))\n",
    "df.drop(labels='addr_state', axis=1, inplace=True)"
   ]
  },
  {
   "cell_type": "code",
   "execution_count": 18,
   "metadata": {
    "_cell_guid": "26f7b9cb-c7fe-4e75-a49b-848bc6b81d00",
    "_uuid": "a9382bc775755e97a59b7f3cb1a8cb8f6345f3dd",
    "collapsed": true
   },
   "outputs": [],
   "source": [
    "#convert the 'loan_status' column to a 0/1 'charged_off' column. \n",
    "df['loan_status'] = df['loan_status'].apply(lambda s: np.float(s == 'Charged Off'))"
   ]
  },
  {
   "cell_type": "code",
   "execution_count": 19,
   "metadata": {
    "_cell_guid": "4ee57005-210c-406b-ad1b-fd8c5e9c27a5",
    "_uuid": "ef5f640f0ce971cd1fa142ae9ecebdee5adb5a6b",
    "collapsed": true
   },
   "outputs": [],
   "source": [
    "#rename loan status column\n",
    "df.rename(columns={'loan_status':'charged_off'}, inplace=True)"
   ]
  },
  {
   "cell_type": "code",
   "execution_count": 20,
   "metadata": {
    "_cell_guid": "96f38ea7-6b80-468d-beb1-2addf5b707e0",
    "_uuid": "5274082b4ab35157b28a91603f8f00e9716664f6",
    "collapsed": true
   },
   "outputs": [],
   "source": [
    "import matplotlib.pyplot as plt\n",
    "import seaborn as sns\n",
    "%matplotlib inline"
   ]
  },
  {
   "cell_type": "code",
   "execution_count": 21,
   "metadata": {
    "_cell_guid": "5d44cf2e-eacb-47eb-bd16-957d44c8b2ad",
    "_uuid": "f78dd8eb8307e846c550c521a3566d0b5f80bda2"
   },
   "outputs": [],
   "source": [
    "#convert categorical features into dummy variable\n",
    "cat_feats = []\n",
    "for col in df.columns:\n",
    "    if df[col].dtype == np.object:\n",
    "        cat_feats.append(col)\n",
    "\n",
    "cat_feats"
   ]
  },
  {
   "cell_type": "code",
   "execution_count": 22,
   "metadata": {
    "_cell_guid": "7552159c-724c-4986-8020-a550bb9716da",
    "_uuid": "0891b4856ddcd3ccea3b77314b68f9f3928d8da6",
    "collapsed": true
   },
   "outputs": [],
   "source": [
    "df = pd.get_dummies(df, columns=cat_feats, drop_first=True)"
   ]
  },
  {
   "cell_type": "code",
   "execution_count": 23,
   "metadata": {
    "_cell_guid": "69f681c7-1d38-4691-953b-9d23686bcc8d",
    "_uuid": "db1d965bf6f861493d9ae75fecf6f5aeb32848c7",
    "collapsed": true
   },
   "outputs": [],
   "source": [
    "#train and validation data\n",
    "\n",
    "X = df.drop(labels=['charged_off'], axis=1) # Features\n",
    "Y = df['charged_off'] # Target variable"
   ]
  },
  {
   "cell_type": "code",
   "execution_count": 24,
   "metadata": {
    "_cell_guid": "405053c3-1074-4910-b51f-7c9efca00b5d",
    "_uuid": "7a7fb90b6a91e1c745b8ca494343da18d5c0bef1"
   },
   "outputs": [],
   "source": [
    "# completion of data i.e. how much percentage of rows are null for each feature\n",
    "pd.DataFrame((X.notnull().sum() / X.shape[0]).sort_values(), columns=['Fraction not null'])"
   ]
  },
  {
   "cell_type": "code",
   "execution_count": null,
   "metadata": {
    "_cell_guid": "a600324e-0790-4686-ae65-8f8a5e33f357",
    "_uuid": "5c7c69a7a5f194116475e9465482ce068f7f291a",
    "collapsed": true
   },
   "outputs": [],
   "source": [
    "#Impute missing data with mean, median, or constant value\n",
    "# fill missing values with mean column values\n",
    "X.fillna(X.mean(), inplace=True)"
   ]
  },
  {
   "cell_type": "code",
   "execution_count": null,
   "metadata": {
    "_cell_guid": "fc0be677-edfe-4ffd-afcc-b634c8aee691",
    "_uuid": "d2883f4346dd2f3473f185a9855722b02ca75c26",
    "collapsed": true
   },
   "outputs": [],
   "source": [
    "## feature scaling - Mean\n",
    "from sklearn.preprocessing import StandardScaler\n",
    "\n",
    "scaler = StandardScaler().fit(X)\n",
    "X = pd.DataFrame(scaler.transform(X), columns=X.columns)"
   ]
  },
  {
   "cell_type": "code",
   "execution_count": null,
   "metadata": {
    "_cell_guid": "715d481f-f345-42c0-b438-34c7dff6947c",
    "_uuid": "10f9c0b98b9e357f09fe09e8db371852e6380ae8",
    "collapsed": true
   },
   "outputs": [],
   "source": [
    "import tensorflow as tf\n",
    "sess = tf.Session(config=tf.ConfigProto(log_device_placement=True))"
   ]
  },
  {
   "cell_type": "code",
   "execution_count": null,
   "metadata": {
    "_cell_guid": "f293b767-5c97-419f-af38-7c6c37938329",
    "_uuid": "4999079e2673298c1dc8812656156e8adfdc6a71",
    "collapsed": true
   },
   "outputs": [],
   "source": [
    "from keras import layers, regularizers\n",
    "from keras.layers import Input, Dense, Activation, ZeroPadding2D, BatchNormalization, Flatten, Conv2D\n",
    "from keras.layers import AveragePooling2D, MaxPooling2D, Dropout, GlobalMaxPooling2D, GlobalAveragePooling2D\n",
    "from keras.models import Model, Sequential\n",
    "import keras.backend as K\n",
    "from keras.optimizers import SGD"
   ]
  },
  {
   "cell_type": "code",
   "execution_count": null,
   "metadata": {
    "_cell_guid": "279920a9-43a3-490d-af62-4058cead2c71",
    "_uuid": "18abd53a9e7a80f1e82e7cf53d1b7c7dd29d2f69",
    "collapsed": true
   },
   "outputs": [],
   "source": [
    "#custom matrix\n",
    "def precision(y_true, y_pred):\n",
    "    # Calculates the precision\n",
    "    true_positives = K.sum(K.round(K.clip(y_true * y_pred, 0, 1)))\n",
    "    predicted_positives = K.sum(K.round(K.clip(y_pred, 0, 1)))\n",
    "    precision = true_positives / (predicted_positives + K.epsilon())\n",
    "    return precision\n",
    "\n",
    "\n",
    "def recall(y_true, y_pred):\n",
    "    # Calculates the recall\n",
    "    true_positives = K.sum(K.round(K.clip(y_true * y_pred, 0, 1)))\n",
    "    possible_positives = K.sum(K.round(K.clip(y_true, 0, 1)))\n",
    "    recall = true_positives / (possible_positives + K.epsilon())\n",
    "    return recall\n",
    "\n",
    "def fmeasure(y_true, y_pred):\n",
    "    # Calculates the f-measure, the harmonic mean of precision and recall.\n",
    "    return fbeta_score(y_true, y_pred, beta=1)"
   ]
  },
  {
   "cell_type": "code",
   "execution_count": null,
   "metadata": {
    "_cell_guid": "283eeba1-156f-410d-9cc4-eec6dfe07efe",
    "_uuid": "4b724c7bb6fe34189fb60361c129e53cf06b4c2b",
    "collapsed": true
   },
   "outputs": [],
   "source": [
    "#Neural Network\n",
    "model = Sequential()\n",
    "\n",
    "model.add(Dense(3,input_dim=X.shape[1]))\n",
    "model.add(Activation('relu'))\n",
    "model.add(Dropout(0.5))\n",
    "\n",
    "model.add(Dense(1))\n",
    "model.add(BatchNormalization())\n",
    "model.add(Activation('sigmoid'))\n",
    "\n",
    "##fine tune stochastic gradient descent optimizer parameterse\n",
    "sgd = SGD(lr=0.001, momentum=0.8, decay=0.0, nesterov=False)\n",
    "model.compile(optimizer='sgd', loss='binary_crossentropy', metrics=['accuracy',  recall, precision])\n",
    "history = model.fit(X, Y, validation_split=0.2, epochs=6, batch_size=256)\n",
    "\n"
   ]
  },
  {
   "cell_type": "code",
   "execution_count": null,
   "metadata": {
    "_cell_guid": "db0280f4-74bb-4baf-b536-38841ab5fb99",
    "_uuid": "b31da70f7aa5341ae0e10072b427c4da15b2a668",
    "collapsed": true
   },
   "outputs": [],
   "source": [
    "# list all data in history\n",
    "print(history.history.keys())\n",
    "# summarize history for accuracy\n",
    "plt.plot(history.history['acc'])\n",
    "plt.plot(history.history['val_acc'])\n",
    "plt.title('model accuracy')\n",
    "plt.ylabel('accuracy')\n",
    "plt.xlabel('epoch')\n",
    "plt.legend(['train', 'test'], loc='upper left')\n",
    "plt.show()\n",
    "# summarize history for loss\n",
    "plt.plot(history.history['loss'])\n",
    "plt.plot(history.history['val_loss'])\n",
    "plt.title('model loss')\n",
    "plt.ylabel('loss')\n",
    "plt.xlabel('epoch')\n",
    "plt.legend(['train', 'test'], loc='upper left')\n",
    "plt.show()"
   ]
  },
  {
   "cell_type": "code",
   "execution_count": null,
   "metadata": {
    "_cell_guid": "40e341c3-04aa-437e-8ce3-9ea25979af27",
    "_uuid": "aaf7f79f27072aa14c00f8dfa6f445df7f0bd790",
    "collapsed": true
   },
   "outputs": [],
   "source": []
  },
  {
   "cell_type": "code",
   "execution_count": null,
   "metadata": {
    "_cell_guid": "4816bf60-1fdd-435a-bd9a-fafb7087d7b7",
    "_uuid": "1c8cb445ff2c0f56454e10a6928f25cd1b273896",
    "collapsed": true
   },
   "outputs": [],
   "source": []
  }
 ],
 "metadata": {
  "kernelspec": {
   "display_name": "Python 3",
   "language": "python",
   "name": "python3"
  },
  "language_info": {
   "codemirror_mode": {
    "name": "ipython",
    "version": 3
   },
   "file_extension": ".py",
   "mimetype": "text/x-python",
   "name": "python",
   "nbconvert_exporter": "python",
   "pygments_lexer": "ipython3",
   "version": "3.6.6"
  }
 },
 "nbformat": 4,
 "nbformat_minor": 1
}
